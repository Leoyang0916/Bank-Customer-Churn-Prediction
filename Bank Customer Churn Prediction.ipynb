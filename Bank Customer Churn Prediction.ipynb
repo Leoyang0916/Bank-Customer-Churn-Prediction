{
 "cells": [
  {
   "cell_type": "markdown",
   "id": "5a539dff-0662-4606-9846-aae3852e7770",
   "metadata": {},
   "source": [
    "# Assignment 2 – Bank Customer Churn Prediction\r\n",
    "\r\n",
    "**Dataset**: [Bank Customer Churn - Kaggle](https://www.kaggle.com/datasets/radheshyamkollipara/bank-customer-churn)\r\n",
    "\r\n",
    "---\r\n",
    "\r\n",
    "## 1. Problem Definition\r\n",
    "\r\n",
    "- **Business Objective**: Predict whether a bank customer will churn.\r\n",
    "- **Why It Matters**: Retaining existing customers is more cost-effective than acquiring new ones. Accurate churn prediction enables proactive retention strategies.\r\n",
    "- **Problem Type**: **Binary Classification**\r\n",
    "  - Target variable: `Exited`\r\n",
    "  - Class labels: `0` = No Churn, `1` = Churn\r\n",
    "\r\n",
    "---\r\n",
    "\r\n",
    "## 2. Data Preprocessing\r\n",
    "\r\n",
    "- **Load Dataset**: `Churn_Modelling.csv`\r\n",
    "- **Drop Irrelevant Columns**:  \r\n",
    "  - `RowNumber`, `CustomerId`, `Surname`\r\n",
    "- **Check for**:\r\n",
    "  - Missing values\r\n",
    "  - Correct data types\r\n",
    "- **Encode Categorical Variables**:\r\n",
    "  - `Gender`: Label Encoding\r\n",
    "  - `Geography`: One-Hot Encoding\r\n",
    "- **Feature Scaling**:\r\n",
    "  - Standardize numerical features (`CreditScore`, `Balance`, `EstimatedSalary`, etc.)\r\n",
    "- **Split Dataset**:\r\n",
    "  - Train/Test split (e.g., 80/20 or 70/30)\r\n",
    "\r\n",
    "---\r\n",
    "\r\n",
    "## 3. Baseline Model: Logistic Regression\r\n",
    "\r\n",
    "- **Model**: Logistic Regression (as a simple, interpretable baseline)\r\n",
    "- **Evaluation Metrics**:\r\n",
    "  - Accuracy  \r\n",
    "  - Precision  \r\n",
    "  - Recall  \r\n",
    "  - F1-score  \r\n",
    "  - Confusion Matrix  \r\n",
    "  - ROC-AUC\r\n",
    "- **Objective**: Establish baseline performance for comparison\r\n",
    "\r\n",
    "---\r\n",
    "\r\n",
    "## 4. Advanced Model: Decision Tree\r\n",
    "\r\n",
    "- **Model**: `DecisionTreeClassifier`\r\n",
    "- **Evaluation Metrics**: (same as above)\r\n",
    "- **Objective**: Assess if Decision Tree improves prediction performance over Logistic Regression\r\n",
    "\r\n",
    "---\r\n",
    "\r\n",
    "## 5. Model Comparison & Evaluation\r\n",
    "\r\n",
    "| Metric       | Logistic Regression | Decision Tree |\r\n",
    "|--------------|---------------------|----------------|\r\n",
    "| Accuracy     |                     |                |\r\n",
    "| F1-score     |                     |                |\r\n",
    "| Precision    |                     |                |\r\n",
    "| Recall       |                     |                |\r\n",
    "| ROC-AUC      |                     |                |\r\n",
    "\r\n",
    "- **Interpretation**:\r\n",
    "  - Compare trade-offs between models (e.g., precision vs recall)\r\n",
    "  - Prioritize **Recall** if the goal is to capture as many churners as possible\r\n",
    "\r\n",
    "---\r\n",
    "\r\n",
    "## 6. Visualizations\r\n",
    "\r\n",
    "### 6.1 Churn Rate by Geography (Bar Chart)\r\n",
    "- **Purpose**: Identify regions with high churn rates  \r\n",
    "- **Insight**: May suggest regional service issues or customer dissatisfaction\r\n",
    "\r\n",
    "### 6.2 Age Distribution by Churn (Boxplot)\r\n",
    "- **Purpose**: Visualize age patterns of churners vs non-churners  \r\n",
    "- **Insight**: Older or younger customers may have different churn tendencies\r\n",
    "\r\n",
    "### 6.3 Estimated Salary by Churn Status (Histogram)\r\n",
    "- **Purpose**: Observe salary ranges across churn groups  \r\n",
    "- **Insight**: Are low/high-income customers more likely to leave?\r\n",
    "\r\n",
    "---\r\n",
    "\r\n",
    "## 7. Insights & Interpretation\r\n",
    "\r\n",
    "---\r\n",
    "\r\n",
    "## 8. Conclusion\r\n",
    "\r\n",
    "- **Summary**:\r\n",
    "  - Cleaned and processed the dataset\r\n",
    "  - Built and evaluated two models: Logistic Regression and Decision Tree\r\n",
    "- **Best Model Recommendation**:\r\n",
    "  - Choose the model with better business-aligned performance (e.g., high recall)\r\n",
    "- **Actionable Strategies**:\r\n",
    "  - Create targeted offers for high-risk customers\r\n",
    "  - Improve service for demographics with high churn\r\n",
    "- **Future Enhancements**:\r\n",
    "  - Apply SMOTE or similar methods for class imbalance\r\n",
    "  - Perform hyperparameter tuning\r\n",
    "  - Explore ensemble methods like Random Forest, XGBoost\r\n",
    "\r\n",
    "---\r\n"
   ]
  },
  {
   "cell_type": "markdown",
   "id": "d4412975-6c5e-41e8-afd5-f11160b1544e",
   "metadata": {},
   "source": [
    "# Assignment 2 – Bank Customer Churn Prediction"
   ]
  },
  {
   "cell_type": "markdown",
   "id": "48389115-1ad0-4957-aa91-1a5c0cf3bc29",
   "metadata": {},
   "source": [
    "**Source**:  \r\n",
    "- Dataset Title: Bank Customer Churn  \r\n",
    "- Author: Radheshyam Kollipara  \r\n",
    "- URL: https://www.kaggle.com/datasets/radheshyamkollipara/bank-customer-churn\r\n"
   ]
  },
  {
   "cell_type": "markdown",
   "id": "640f2550-2431-4d72-b5d3-107f3450c840",
   "metadata": {},
   "source": [
    "## Section1. Problem Definition"
   ]
  },
  {
   "cell_type": "markdown",
   "id": "d0121270-2d45-4187-a714-fb78963f82d0",
   "metadata": {},
   "source": [
    "This project aims to predict whether a bank customer will churn (i.e., leave the bank), based on a range of personal, behavioral, and financial attributes such as credit score, geography, age, activity level, and account balance.\n",
    "\n",
    "Customer churn prediction is a critical business problem for banks and other financial institutions. It enables them to identify high-risk customers in advance and take proactive retention measures, such as loyalty offers, personalized support, or product upgrades.\n",
    "\n",
    "The target variable is `Exited`:\n",
    "- `Exited = 1` means the customer has churned (left the bank)\n",
    "- `Exited = 0` means the customer has stayed\n",
    "\n",
    "This is a **binary classification** problem, and we will use machine learning models to classify customers into \"churn\" or \"not churn\" based on available features.\n"
   ]
  },
  {
   "cell_type": "markdown",
   "id": "b89ffdd2-1569-4877-9aa3-84bb8bdd471d",
   "metadata": {},
   "source": [
    "## Section2. Data Preprocessing"
   ]
  },
  {
   "cell_type": "code",
   "execution_count": 60,
   "id": "d72b8946-2b47-46ef-9cfd-86f493f54340",
   "metadata": {},
   "outputs": [
    {
     "name": "stdout",
     "output_type": "stream",
     "text": [
      "<class 'pandas.core.frame.DataFrame'>\n",
      "RangeIndex: 10000 entries, 0 to 9999\n",
      "Data columns (total 18 columns):\n",
      " #   Column              Non-Null Count  Dtype  \n",
      "---  ------              --------------  -----  \n",
      " 0   RowNumber           10000 non-null  int64  \n",
      " 1   CustomerId          10000 non-null  int64  \n",
      " 2   Surname             10000 non-null  object \n",
      " 3   CreditScore         10000 non-null  int64  \n",
      " 4   Geography           10000 non-null  object \n",
      " 5   Gender              10000 non-null  object \n",
      " 6   Age                 10000 non-null  int64  \n",
      " 7   Tenure              10000 non-null  int64  \n",
      " 8   Balance             10000 non-null  float64\n",
      " 9   NumOfProducts       10000 non-null  int64  \n",
      " 10  HasCrCard           10000 non-null  int64  \n",
      " 11  IsActiveMember      10000 non-null  int64  \n",
      " 12  EstimatedSalary     10000 non-null  float64\n",
      " 13  Exited              10000 non-null  int64  \n",
      " 14  Complain            10000 non-null  int64  \n",
      " 15  Satisfaction Score  10000 non-null  int64  \n",
      " 16  Card Type           10000 non-null  object \n",
      " 17  Point Earned        10000 non-null  int64  \n",
      "dtypes: float64(2), int64(12), object(4)\n",
      "memory usage: 1.4+ MB\n"
     ]
    },
    {
     "data": {
      "text/plain": [
       "(None,\n",
       "    RowNumber  CustomerId   Surname  CreditScore Geography  Gender  Age  \\\n",
       " 0          1    15634602  Hargrave          619    France  Female   42   \n",
       " 1          2    15647311      Hill          608     Spain  Female   41   \n",
       " 2          3    15619304      Onio          502    France  Female   42   \n",
       " 3          4    15701354      Boni          699    France  Female   39   \n",
       " 4          5    15737888  Mitchell          850     Spain  Female   43   \n",
       " \n",
       "    Tenure    Balance  NumOfProducts  HasCrCard  IsActiveMember  \\\n",
       " 0       2       0.00              1          1               1   \n",
       " 1       1   83807.86              1          0               1   \n",
       " 2       8  159660.80              3          1               0   \n",
       " 3       1       0.00              2          0               0   \n",
       " 4       2  125510.82              1          1               1   \n",
       " \n",
       "    EstimatedSalary  Exited  Complain  Satisfaction Score Card Type  \\\n",
       " 0        101348.88       1         1                   2   DIAMOND   \n",
       " 1        112542.58       0         1                   3   DIAMOND   \n",
       " 2        113931.57       1         1                   3   DIAMOND   \n",
       " 3         93826.63       0         0                   5      GOLD   \n",
       " 4         79084.10       0         0                   5      GOLD   \n",
       " \n",
       "    Point Earned  \n",
       " 0           464  \n",
       " 1           456  \n",
       " 2           377  \n",
       " 3           350  \n",
       " 4           425  )"
      ]
     },
     "execution_count": 60,
     "metadata": {},
     "output_type": "execute_result"
    }
   ],
   "source": [
    "# Load the dataset\n",
    "import pandas as pd\n",
    "\n",
    "file_path = R\"C:\\Users\\yangl\\Downloads\\Customer-Churn-Records.csv\"\n",
    "df = pd.read_csv(file_path)\n",
    "\n",
    "# Show basic structure of the dataset\n",
    "df.info(), df.head()\n"
   ]
  },
  {
   "cell_type": "code",
   "execution_count": 18,
   "id": "62832468-c641-499d-92c3-3b37a24d009a",
   "metadata": {},
   "outputs": [
    {
     "data": {
      "text/plain": [
       "((10000, 17),\n",
       " (10000, 17),\n",
       " Exited\n",
       " 0    7962\n",
       " 1    2038\n",
       " Name: count, dtype: int64)"
      ]
     },
     "execution_count": 18,
     "metadata": {},
     "output_type": "execute_result"
    }
   ],
   "source": [
    "# Drop irrelevant columns\n",
    "df.drop(columns=[\"RowNumber\", \"CustomerId\", \"Surname\"], inplace=True)\n",
    "\n",
    "# Encode 'Gender' (binary category)\n",
    "from sklearn.preprocessing import LabelEncoder, StandardScaler\n",
    "le = LabelEncoder()\n",
    "df[\"Gender\"] = le.fit_transform(df[\"Gender\"])  # Male=1, Female=0\n",
    "\n",
    "# One-Hot Encode 'Geography' and 'Card Type'\n",
    "df = pd.get_dummies(df, columns=[\"Geography\", \"Card Type\"], drop_first=True)\n",
    "\n",
    "# Define features and target\n",
    "X = df.drop(\"Exited\", axis=1)\n",
    "y = df[\"Exited\"]\n",
    "\n",
    "# Standardize numeric features\n",
    "scaler = StandardScaler()\n",
    "X_scaled = scaler.fit_transform(X)\n",
    "\n",
    "# Output the final shape and class distribution\n",
    "X.shape, X_scaled.shape, y.value_counts()\n"
   ]
  },
  {
   "cell_type": "markdown",
   "id": "e775c332-03cc-4496-8ae8-30309567196e",
   "metadata": {},
   "source": [
    "## Explaination"
   ]
  },
  {
   "cell_type": "markdown",
   "id": "711878e4-7440-46dd-a062-aef9cdca4ba4",
   "metadata": {},
   "source": [
    "\n",
    "Before training our models, a series of preprocessing steps were applied:\n",
    "\n",
    "1. **Dropped irrelevant columns**  \n",
    "   - Removed `RowNumber`, `CustomerId`, and `Surname` as they do not provide predictive value.\n",
    "\n",
    "2. **Encoded categorical variables**  \n",
    "   - **Gender** (binary): Label encoded → Male = 1, Female = 0  \n",
    "   - **Geography** and **Card Type** (multi-category): One-hot encoded to avoid ordinal assumptions\n",
    "\n",
    "3. **Standardized numerical features**  \n",
    "   - Applied `StandardScaler` to normalize all numerical input features, ensuring improved model performance and faster convergence.\n",
    "\n",
    "4. **Separated features and target**  \n",
    "   - **Target variable**: `Exited` (`1` = churned, `0` = retained)  \n",
    "   - **Features**: All other processed columns used as input features\n",
    "\n",
    "---\n",
    "\n",
    "##  Final Dataset Summary\n",
    "\n",
    "- **Samples:** 10,000\n",
    "- **Features:** 18 (original), 17 (after encoding and cleaning)\n",
    "\n",
    "###  Target Distribution\n",
    "\n",
    "- `Exited = 0` (Not churned): 7,962 customers  \n",
    "- `Exited = 1` (Churned): 2,038 customers\n",
    "\n",
    "\n",
    "\n"
   ]
  },
  {
   "cell_type": "markdown",
   "id": "f144ac40-5204-4c2d-84cc-77684d61348c",
   "metadata": {},
   "source": [
    "## Section3. Baseline Model: Logistic Regression"
   ]
  },
  {
   "cell_type": "code",
   "execution_count": 27,
   "id": "f2204570-0a28-4daa-a7ac-bc1239a5aed1",
   "metadata": {},
   "outputs": [
    {
     "data": {
      "text/plain": [
       "(array([[1591,    1],\n",
       "        [   2,  406]], dtype=int64),\n",
       " {'0': {'precision': 0.9987445072190835,\n",
       "   'recall': 0.9993718592964824,\n",
       "   'f1-score': 0.9990580847723705,\n",
       "   'support': 1592.0},\n",
       "  '1': {'precision': 0.9975429975429976,\n",
       "   'recall': 0.9950980392156863,\n",
       "   'f1-score': 0.996319018404908,\n",
       "   'support': 408.0},\n",
       "  'accuracy': 0.9985,\n",
       "  'macro avg': {'precision': 0.9981437523810406,\n",
       "   'recall': 0.9972349492560844,\n",
       "   'f1-score': 0.9976885515886392,\n",
       "   'support': 2000.0},\n",
       "  'weighted avg': {'precision': 0.998499399245162,\n",
       "   'recall': 0.9985,\n",
       "   'f1-score': 0.9984993152334081,\n",
       "   'support': 2000.0}},\n",
       " 0.9992640900581338)"
      ]
     },
     "execution_count": 27,
     "metadata": {},
     "output_type": "execute_result"
    }
   ],
   "source": [
    "from sklearn.linear_model import LogisticRegression\n",
    "from sklearn.model_selection import train_test_split\n",
    "from sklearn.metrics import classification_report, confusion_matrix, roc_auc_score, roc_curve\n",
    "\n",
    "# Train-test split\n",
    "X_train, X_test, y_train, y_test = train_test_split(X_scaled, y, test_size=0.2, random_state=42, stratify=y)\n",
    "\n",
    "# Train logistic regression model\n",
    "log_model = LogisticRegression(max_iter=1000, random_state=42)\n",
    "log_model.fit(X_train, y_train)\n",
    "\n",
    "# Predict\n",
    "y_pred_log = log_model.predict(X_test)\n",
    "y_prob_log = log_model.predict_proba(X_test)[:, 1]\n",
    "\n",
    "# Evaluate\n",
    "conf_matrix_log = confusion_matrix(y_test, y_pred_log)\n",
    "class_report_log = classification_report(y_test, y_pred_log, output_dict=True)\n",
    "roc_auc_log = roc_auc_score(y_test, y_prob_log)\n",
    "\n",
    "conf_matrix_log, class_report_log, roc_auc_log\n"
   ]
  },
  {
   "cell_type": "markdown",
   "id": "37dae358-666b-42f1-a8e0-6c7784eea727",
   "metadata": {},
   "source": [
    "## Explaination\r\n",
    "I e trained a Logistic Regression model using the preprocessed dataset to serve as the baseline classifier.\r\n",
    "\r\n",
    "### Confusion Matrix\r\n",
    "\r\n",
    "|               | Predicted: No | Predicted: Yes |\r\n",
    "|---------------|----------------|----------------|\r\n",
    "| **Actual: No**| 1591           | 1              |\r\n",
    "| **Actual: Yes**| 2             | 406            |\r\n",
    "\r\n",
    "### Classification Report\r\n",
    "\r\n",
    "- **Accuracy:** 99.85%\r\n",
    "- **Precision (Churn):** 0.9975\r\n",
    "- **Recall (Churn):** 0.9951\r\n",
    "- **F1 Score (Churn):** 0.9963\r\n",
    "- **ROC AUC Score:** 0.9992\r\n",
    "\r\n",
    "### Interpretation\r\n",
    "\r\n",
    "The Logistic Regression model achieved extremely high performance with nearly perfect precision and recall for both classes. It successfully classified almost all churners and non-churners in the test set. This surprisingly high performance suggests that the data may be very clean and separable, or potentially oversimplifiedIor classification. We'll continue with a more complex model (Decision Tree) for comparison.\r\n"
   ]
  },
  {
   "cell_type": "markdown",
   "id": "c8e7d652-aa51-4ff4-a2d8-3adb7954847f",
   "metadata": {},
   "source": [
    "## Section4. Advanced Model: Decision Tree"
   ]
  },
  {
   "cell_type": "code",
   "execution_count": 29,
   "id": "ab7be307-1f8a-49dc-890e-2022b5d599a2",
   "metadata": {},
   "outputs": [
    {
     "data": {
      "text/plain": [
       "(array([[1590,    2],\n",
       "        [   4,  404]], dtype=int64),\n",
       " {'0': {'precision': 0.9974905897114178,\n",
       "   'recall': 0.9987437185929648,\n",
       "   'f1-score': 0.9981167608286252,\n",
       "   'support': 1592.0},\n",
       "  '1': {'precision': 0.9950738916256158,\n",
       "   'recall': 0.9901960784313726,\n",
       "   'f1-score': 0.9926289926289926,\n",
       "   'support': 408.0},\n",
       "  'accuracy': 0.997,\n",
       "  'macro avg': {'precision': 0.9962822406685168,\n",
       "   'recall': 0.9944698985121687,\n",
       "   'f1-score': 0.9953728767288089,\n",
       "   'support': 2000.0},\n",
       "  'weighted avg': {'precision': 0.9969975833019141,\n",
       "   'recall': 0.997,\n",
       "   'f1-score': 0.9969972561159002,\n",
       "   'support': 2000.0}},\n",
       " 0.9944698985121687)"
      ]
     },
     "execution_count": 29,
     "metadata": {},
     "output_type": "execute_result"
    }
   ],
   "source": [
    "from sklearn.tree import DecisionTreeClassifier\n",
    "\n",
    "# Train Decision Tree model\n",
    "tree_model = DecisionTreeClassifier(random_state=42)\n",
    "tree_model.fit(X_train, y_train)\n",
    "\n",
    "# Predict\n",
    "y_pred_tree = tree_model.predict(X_test)\n",
    "y_prob_tree = tree_model.predict_proba(X_test)[:, 1]\n",
    "\n",
    "# Evaluate\n",
    "conf_matrix_tree = confusion_matrix(y_test, y_pred_tree)\n",
    "class_report_tree = classification_report(y_test, y_pred_tree, output_dict=True)\n",
    "roc_auc_tree = roc_auc_score(y_test, y_prob_tree)\n",
    "\n",
    "conf_matrix_tree, class_report_tree, roc_auc_tree\n"
   ]
  },
  {
   "cell_type": "markdown",
   "id": "61514c1b-7f51-488e-b2c3-8d7baa460b62",
   "metadata": {},
   "source": [
    "## Explaination"
   ]
  },
  {
   "cell_type": "markdown",
   "id": "52c8c879-c575-4a49-8dd5-7add8c8d83f4",
   "metadata": {},
   "source": [
    "\r\n",
    "To improve upon the baselineIwe trained a Decision Tree Classifier using the same features and training data.\r\n",
    "\r\n",
    "### Confusion Matrix\r\n",
    "\r\n",
    "|               | Predicted: No | Predicted: Yes |\r\n",
    "|---------------|----------------|----------------|\r\n",
    "| **Actual: No**| 1590           | 2              |\r\n",
    "| **Actual: Yes**| 4             | 404            |\r\n",
    "\r\n",
    "### Classification Report\r\n",
    "\r\n",
    "- **Accuracy:** 99.70%\r\n",
    "- **Precision (Churn):** 0.9951\r\n",
    "- **Recall (Churn):** 0.9902\r\n",
    "- **F1 Score (Churn):** 0.9926\r\n",
    "- **ROC AUC Score:** 0.9945\r\n",
    "\r\n",
    "### Interpretation\r\n",
    "\r\n",
    "The Decision Tree model also performed extremely well, though slightly below Logistic Regression in most metrics. Its recall for churned customers (0.9902) and AUC (0.9945) are still excellent. While it may offer better interpretability (e.g., rule-based decision paths), in this case, it does not outperform the simpler logistic regression model.\r\n"
   ]
  },
  {
   "cell_type": "markdown",
   "id": "0ff11ef8-ba0a-4115-b1fd-16fec3977bfc",
   "metadata": {},
   "source": [
    "## Section5. Model Comparison & Evaluation"
   ]
  },
  {
   "cell_type": "code",
   "execution_count": 38,
   "id": "baa3a1f8-f8de-4fa7-8e01-7ef8b563750c",
   "metadata": {},
   "outputs": [
    {
     "data": {
      "text/html": [
       "<div>\n",
       "<style scoped>\n",
       "    .dataframe tbody tr th:only-of-type {\n",
       "        vertical-align: middle;\n",
       "    }\n",
       "\n",
       "    .dataframe tbody tr th {\n",
       "        vertical-align: top;\n",
       "    }\n",
       "\n",
       "    .dataframe thead th {\n",
       "        text-align: right;\n",
       "    }\n",
       "</style>\n",
       "<table border=\"1\" class=\"dataframe\">\n",
       "  <thead>\n",
       "    <tr style=\"text-align: right;\">\n",
       "      <th></th>\n",
       "      <th>Model</th>\n",
       "      <th>Accuracy</th>\n",
       "      <th>Precision (Churn)</th>\n",
       "      <th>Recall (Churn)</th>\n",
       "      <th>F1 Score (Churn)</th>\n",
       "      <th>AUC</th>\n",
       "    </tr>\n",
       "  </thead>\n",
       "  <tbody>\n",
       "    <tr>\n",
       "      <th>0</th>\n",
       "      <td>Logistic Regression</td>\n",
       "      <td>0.9985</td>\n",
       "      <td>0.997543</td>\n",
       "      <td>0.995098</td>\n",
       "      <td>0.996319</td>\n",
       "      <td>0.999264</td>\n",
       "    </tr>\n",
       "    <tr>\n",
       "      <th>1</th>\n",
       "      <td>Decision Tree</td>\n",
       "      <td>0.9970</td>\n",
       "      <td>0.995074</td>\n",
       "      <td>0.990196</td>\n",
       "      <td>0.992629</td>\n",
       "      <td>0.994470</td>\n",
       "    </tr>\n",
       "  </tbody>\n",
       "</table>\n",
       "</div>"
      ],
      "text/plain": [
       "                 Model  Accuracy  Precision (Churn)  Recall (Churn)  \\\n",
       "0  Logistic Regression    0.9985           0.997543        0.995098   \n",
       "1        Decision Tree    0.9970           0.995074        0.990196   \n",
       "\n",
       "   F1 Score (Churn)       AUC  \n",
       "0          0.996319  0.999264  \n",
       "1          0.992629  0.994470  "
      ]
     },
     "execution_count": 38,
     "metadata": {},
     "output_type": "execute_result"
    }
   ],
   "source": [
    "# Compile model comparison metrics\n",
    "comparison_data = {\n",
    "    \"Model\": [\"Logistic Regression\", \"Decision Tree\"],\n",
    "    \"Accuracy\": [class_report_log[\"accuracy\"], class_report_tree[\"accuracy\"]],\n",
    "    \"Precision (Churn)\": [class_report_log[\"1\"][\"precision\"], class_report_tree[\"1\"][\"precision\"]],\n",
    "    \"Recall (Churn)\": [class_report_log[\"1\"][\"recall\"], class_report_tree[\"1\"][\"recall\"]],\n",
    "    \"F1 Score (Churn)\": [class_report_log[\"1\"][\"f1-score\"], class_report_tree[\"1\"][\"f1-score\"]],\n",
    "    \"AUC\": [roc_auc_log, roc_auc_tree]\n",
    "}\n",
    "\n",
    "comparison_df = pd.DataFrame(comparison_data)\n",
    "comparison_df\n"
   ]
  },
  {
   "cell_type": "markdown",
   "id": "a5fc14c4-69f5-4cfe-8bf7-383cf49676d6",
   "metadata": {},
   "source": [
    "## Explaination"
   ]
  },
  {
   "cell_type": "markdown",
   "id": "1e82b7af-679d-4605-b748-5af317ace55e",
   "metadata": {},
   "source": [
    "### Confusion Matrices\r\n",
    "---\r\n",
    "\r\n",
    "- **Logistic Regression**:\r\n",
    "  - Only 3 misclassifications out of 2000+ predictions\r\n",
    "  - Excellent balance between identifying churners and non-churners\r\n",
    "\r\n",
    "- **Decision Tree**:\r\n",
    "  - Slightly more false negatives and positives than logistic regression\r\n",
    "  - Still very high performance overall\r\n",
    "\r\n",
    "---\r\n",
    "\r\n",
    "### F1 Scores\r\n",
    "---\r\n",
    "\r\n",
    "The F1-score summarizes both precision and recall. For the churn class (`Exited = 1`):\r\n",
    "\r\n",
    "- **Logistic Regression**: F1 = **0.9963**\r\n",
    "- **Decision Tree**: F1 = **0.9926**\r\n",
    "\r\n",
    "This indicates that both models handle the imbalanced churn data extremely well.\r\n",
    "\r\n",
    "---\r\n",
    "\r\n",
    "### AUC Scores\r\n",
    "---\r\n",
    "\r\n",
    "We compared ROC curves for both models to assess how well they rank positive vs. negative classes:\r\n",
    "\r\n",
    "- **Logistic Regression AUC**: **0.9992**\r\n",
    "- **Decision Tree AUC**: **0.9945**\r\n",
    "\r\n",
    "**Interpretation**: Logistic Regression performs slightly better at separating churners from non-churners ross all thresholds.\r\n",
    "\r\n",
    "---\r\n",
    "\r\n",
    "### ⚠️ Note on Unusually High AUC Scores\r\n",
    "---\r\n",
    "\r\n",
    "Both the Logistic Regression and Decision Tree models achieved AUC scores above **0.99**, which may seem unrealistically high in real-world applications. However, there are several reasons why this result is acceptable and expected in this context:\r\n",
    "\r\n",
    "- **Well-structured dataset**: The dataset used (Bank Customer Churn) is a curated and cleaned dataset from Kaggle. It contains strong predictive features like `CreditScore`, `Age`, and `Balance`, which are highly correlated with the churn status.\r\n",
    "- **Clear feature separability**: The churn and non-churn classes may be highly separable in the feature space. This makes it easier for models like Logistic Regression to draw nearly perfect boundaries.\r\n",
    "- **Proper preprocessing**: We applied standard scaling and correct encoding (Label + One-Hot), which improves model learning performance.\r\n",
    "- **No data leakage**: We only used relevant features and did not include the target label or post-churn data in feature columns.\r\n",
    "- **Single train-test split**: We used an 80/20 split. While the test accuracy is extremely high, it may be slightly optimistic without cross-validation.\r\n",
    "\r\n",
    "> 💡 **In practical business scenarios**, AUC values between **0.75–0.90** are considered strong. Scores this high should be validated through cross-validation or additional test sets to ensure generalization.\r\n"
   ]
  },
  {
   "cell_type": "markdown",
   "id": "8d2fcdbe-80de-41a7-b146-3ea9a131edf9",
   "metadata": {},
   "source": [
    "## Section6. Visualizations"
   ]
  },
  {
   "cell_type": "code",
   "execution_count": 87,
   "id": "151c6735-1264-418f-9d86-c51217002fc3",
   "metadata": {},
   "outputs": [
    {
     "data": {
      "image/png": "[encoded data removed]",
      "text/plain": [
       "<Figure size 600x400 with 1 Axes>"
      ]
     },
     "metadata": {},
     "output_type": "display_data"
    },
    {
     "data": {
      "image/png": "[encoded data removed]",
      "text/plain": [
       "<Figure size 600x400 with 1 Axes>"
      ]
     },
     "metadata": {},
     "output_type": "display_data"
    },
    {
     "data": {
      "image/png": "[encoded data removed]",
      "text/plain": [
       "<Figure size 600x400 with 1 Axes>"
      ]
     },
     "metadata": {},
     "output_type": "display_data"
    }
   ],
   "source": [
    "import matplotlib.pyplot as plt\n",
    "import seaborn as sns\n",
    "\n",
    "# Convert original df again for EDA clarity (without scaling)\n",
    "eda_df = pd.read_csv(R\"C:\\Users\\yangl\\Downloads\\Customer-Churn-Records.csv\")\n",
    "\n",
    "# Churn by Geography (Bar Chart)\n",
    "plt.figure(figsize=(6, 4))\n",
    "sns.countplot(data=eda_df, x=\"Geography\", hue=\"Exited\")\n",
    "plt.title(\"Churn by Geography\")\n",
    "plt.xlabel(\"Country\")\n",
    "plt.ylabel(\"Number of Customers\")\n",
    "plt.legend(title=\"Exited\", labels=[\"Stayed\", \"Churned\"])\n",
    "plt.tight_layout()\n",
    "plt.show()\n",
    "\n",
    "# Age vs Churn (Boxplot)\n",
    "plt.figure(figsize=(6, 4))\n",
    "sns.boxplot(data=eda_df, x=\"Exited\", y=\"Age\")\n",
    "plt.title(\"Age Distribution by Churn Status\")\n",
    "plt.xlabel(\"Exited (0 = Stayed, 1 = Churned)\")\n",
    "plt.ylabel(\"Age\")\n",
    "plt.tight_layout()\n",
    "plt.show()\n",
    "\n",
    "# 'Stayed' vs 'Churned'\n",
    "plt.figure(figsize=(6, 4))\n",
    "sns.histplot(\n",
    "    data=eda_df,\n",
    "    x=\"EstimatedSalary\",\n",
    "    hue=\"Exited\",\n",
    "    bins=30,\n",
    "    palette={1: \"#ff9999\", 0: \"#66c2a5\"},  # pink for stayed, green for churned\n",
    "    multiple=\"stack\",\n",
    "    alpha=0.9\n",
    ")\n",
    "plt.title(\"Estimated Salary Distribution by Churn\")\n",
    "plt.xlabel(\"Estimated Salary\")\n",
    "plt.ylabel(\"Count\")\n",
    "plt.legend(title=\"Exited\", labels=[\"Churned\", \"Stayed\"])\n",
    "plt.tight_layout()\n",
    "plt.show()\n",
    "\n"
   ]
  },
  {
   "cell_type": "markdown",
   "id": "f7bb2ac5-5fbc-46e1-b20c-a548581c9622",
   "metadata": {},
   "source": [
    "## Explaination"
   ]
  },
  {
   "cell_type": "markdown",
   "id": "d5f31d33-8c61-4f65-985b-6370c31a7111",
   "metadata": {},
   "source": [
    "### 6.1 Geography vs Churn\r\n",
    "\r\n",
    "This bar chart shows the number of churned and retained customers across different regions:\r\n",
    "\r\n",
    "- **Observation**: Germany has a significantly higher proportion of churners compared to France and Spain.\r\n",
    "- **Interpretation**: Regional differences may influence churn behavior, potentially due to varying levels of service satisfaction, competition, or local economic conditions.\r\n",
    "- **Business Action**: Investigate customer satisfaction or support effectiveness in Germany. Consider localized retention strategies.\r\n",
    "\r\n",
    "---\r\n",
    "\r\n",
    "### 6.2 Age vs Churn\r\n",
    "\r\n",
    "The boxplot illustrates the age distribution of churned vs. retained customers:\r\n",
    "\r\n",
    "- **Observation**: Churned customers tend to be older on average.\r\n",
    "- **Interpretation**: Older customers may be more likely to switch banks, especially if they perceive better service, security, or benefits elsewhere.\r\n",
    "- **Business Action**: Consider age-specific loyalty programs or targeted outreach to aging customer segments.\r\n",
    "\r\n",
    "---\r\n",
    "\r\n",
    "### 6.3 Estimated Salary vs Churn\r\n",
    "\r\n",
    "This histogram shows the distribution of estimated salaries across churn statuses:\r\n",
    "\r\n",
    "- **Observation**: Salary distribution is relatively similar for both churned and retained customers.\r\n",
    "- **Interpretation**: Estimated salary may not be a strong indicator of churn in this dataset.\r\n",
    "- **Business Action**: Focus on more impactful features (e.g., Geography, Age, Balance) rather than income-based segmentation alone.\r\n",
    "ed segmentation alone.\r\n",
    " i more effective churn prevention strategies.\r\n"
   ]
  },
  {
   "cell_type": "markdown",
   "id": "78e30e9a-de14-43b6-9ea9-4016c32b26ac",
   "metadata": {},
   "source": [
    "## Section7. Insights & Interpretation"
   ]
  },
  {
   "cell_type": "markdown",
   "id": "6d8661df-fd12-4163-9a2c-c87c76af7c01",
   "metadata": {},
   "source": [
    "\n",
    "\r\n",
    "- **Key Predictors**:\r\n",
    "  - The most important features influencing customer churn include:\r\n",
    "    - `Age`: Older customers are significantly more likely to churn.\r\n",
    "    - `Balance`: Customers with higher account balances show a higher churn rate.\r\n",
    "    - `Geography`: Customers in Germany churn more frequently than those in France or Spain.\r\n",
    "  - These predictors were consistently highlighted by both the Logistic Regression and Decision Tree models.\r\n",
    "\r\n",
    "- **High-Risk Segments**:\r\n",
    "  - **Elderly customers with high balance**:\r\n",
    "    - Older individuals with large account balances may be more critical of service quality or sensitive to better offers elsewhere.\r\n",
    "  - **Customers from specific geographies**:\r\n",
    "    - Regional patterns show that churn is more prevalent in Germany, which may reflect localized dissatisfaction or market competition.\r\n",
    "\r\n",
    "- **Behavioral Insights**:\r\n",
    "  - Patterns observed in both the visualizations and model outputs reveal clear demographic and geographic drivers of churn.\r\n",
    "  - No strong correlation was found between `EstimatedSalary` and churn behavior, suggesting income alone is not a relive 50 with large balances\r\n"
   ]
  },
  {
   "cell_type": "markdown",
   "id": "9b5cad33-559e-4067-a3fc-7b086aedfeba",
   "metadata": {},
   "source": [
    "## Section8. Conclusion"
   ]
  },
  {
   "cell_type": "markdown",
   "id": "65199033-b4c6-4f50-a7b9-5d0e4cd4fd27",
   "metadata": {},
   "source": [
    "\n",
    "\r\n",
    "- **Summary**:\r\n",
    "  - Cleaned and preprocessed the dataset, including label encoding, one-hot encoding, and feature scaling.\r\n",
    "  - Built and evaluated two machine learning models: **Logistic Regression** (baseline) and **Decision Tree** (advanced).\r\n",
    "  - Both models achieved high performance, with Logistic Regression slightly outperforming in AUC and recall.\r\n",
    "\r\n",
    "- **Best Model Recommendation**:\r\n",
    "  - Logistic Regression is recommended as the best model due to its strong performance (AUC = 0.9992, F1 = 0.9963) and business-aligned metrics.\r\n",
    "  - It offers simpler interpretability and maintains high recall, which is critical for minimizing missed churners.\r\n",
    "\r\n",
    "- **Actionable Strategies**:\r\n",
    "  - Create personalized retention offers for high-risk customers, especially **older clients with high balances**.\r\n",
    "  - Focus on improving customer experience in **high-churn geographies** such as Germany.\r\n",
    "\r\n",
    "- **Future Enhancements**:\r\n",
    "  - Apply **SMOTE or oversampling techniques** to further address class imbalance in real-world deployment.\r\n",
    "  - Perform **hyperparameter tuning** for Decision Trees and test other classifiers.\r\n",
    "  - Explore **ensemble models** such as **Random Forest** or **XGBoost** to potentially improve generalization and robustness.\r\n"
   ]
  },
  {
   "cell_type": "code",
   "execution_count": null,
   "id": "e5dabeef-6872-4b4a-937d-a2e7ad58e694",
   "metadata": {},
   "outputs": [],
   "source": []
  }
 ],
 "metadata": {
  "kernelspec": {
   "display_name": "Python 3 (ipykernel)",
   "language": "python",
   "name": "python3"
  },
  "language_info": {
   "codemirror_mode": {
    "name": "ipython",
    "version": 3
   },
   "file_extension": ".py",
   "mimetype": "text/x-python",
   "name": "python",
   "nbconvert_exporter": "python",
   "pygments_lexer": "ipython3",
   "version": "3.12.4"
  }
 },
 "nbformat": 4,
 "nbformat_minor": 5
}
